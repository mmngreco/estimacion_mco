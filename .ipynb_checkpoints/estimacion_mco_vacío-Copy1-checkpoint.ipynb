{
 "cells": [
  {
   "cell_type": "markdown",
   "metadata": {},
   "source": [
    "# TRES MÉTODOS DISTINTOS PARA HACER UNA ESTIMACIÓN MCO EN PYTHON\n",
    "\n",
    "## NECESITAMOS\n",
    "\n",
    "- [DATOS](https://github.com/mmngreco/estimacion_mco/tree/master/files)\n",
    "- LIBRERIAS\n",
    "    - [STATSMODELS](http://statsmodels.sourceforge.net/)\n",
    "    - [PANDAS](http://pandas.pydata.org/pandas-docs/stable/)\n",
    "    - [NUMPY](http://docs.scipy.org/doc/numpy/reference/)"
   ]
  },
  {
   "cell_type": "code",
   "execution_count": 1,
   "metadata": {
    "collapsed": false
   },
   "outputs": [
    {
     "name": "stderr",
     "output_type": "stream",
     "text": [
      "Vendor:  Continuum Analytics, Inc.\n",
      "Package: mkl\n",
      "Message: trial mode expires in 30 days\n"
     ]
    }
   ],
   "source": [
    "# importar las librerias\n",
    "import numpy as np\n",
    "import pandas as pd\n",
    "import matplotlib.pyplot as plt"
   ]
  },
  {
   "cell_type": "code",
   "execution_count": 2,
   "metadata": {
    "collapsed": true
   },
   "outputs": [],
   "source": [
    "%matplotlib inline"
   ]
  },
  {
   "cell_type": "code",
   "execution_count": 22,
   "metadata": {
    "collapsed": true
   },
   "outputs": [],
   "source": [
    "# importar los datos\n",
    "data = pd.read_excel('files/datos.xls', header=1)"
   ]
  },
  {
   "cell_type": "code",
   "execution_count": 23,
   "metadata": {
    "collapsed": false
   },
   "outputs": [
    {
     "data": {
      "text/html": [
       "<div>\n",
       "<table border=\"1\" class=\"dataframe\">\n",
       "  <thead>\n",
       "    <tr style=\"text-align: right;\">\n",
       "      <th></th>\n",
       "      <th>x</th>\n",
       "      <th>y</th>\n",
       "    </tr>\n",
       "  </thead>\n",
       "  <tbody>\n",
       "    <tr>\n",
       "      <th>0</th>\n",
       "      <td>1114.556392</td>\n",
       "      <td>1883.775735</td>\n",
       "    </tr>\n",
       "    <tr>\n",
       "      <th>1</th>\n",
       "      <td>347.784943</td>\n",
       "      <td>1652.178091</td>\n",
       "    </tr>\n",
       "    <tr>\n",
       "      <th>2</th>\n",
       "      <td>1415.962928</td>\n",
       "      <td>2518.982543</td>\n",
       "    </tr>\n",
       "    <tr>\n",
       "      <th>3</th>\n",
       "      <td>1761.667258</td>\n",
       "      <td>2215.854426</td>\n",
       "    </tr>\n",
       "    <tr>\n",
       "      <th>4</th>\n",
       "      <td>33.086990</td>\n",
       "      <td>1521.327516</td>\n",
       "    </tr>\n",
       "    <tr>\n",
       "      <th>5</th>\n",
       "      <td>1489.452342</td>\n",
       "      <td>2342.996002</td>\n",
       "    </tr>\n",
       "    <tr>\n",
       "      <th>6</th>\n",
       "      <td>619.314942</td>\n",
       "      <td>1512.490636</td>\n",
       "    </tr>\n",
       "    <tr>\n",
       "      <th>7</th>\n",
       "      <td>1265.767746</td>\n",
       "      <td>2186.219981</td>\n",
       "    </tr>\n",
       "    <tr>\n",
       "      <th>8</th>\n",
       "      <td>147.871262</td>\n",
       "      <td>1540.676060</td>\n",
       "    </tr>\n",
       "    <tr>\n",
       "      <th>9</th>\n",
       "      <td>1602.304038</td>\n",
       "      <td>2323.590241</td>\n",
       "    </tr>\n",
       "    <tr>\n",
       "      <th>10</th>\n",
       "      <td>1267.111068</td>\n",
       "      <td>1873.563836</td>\n",
       "    </tr>\n",
       "    <tr>\n",
       "      <th>11</th>\n",
       "      <td>914.036264</td>\n",
       "      <td>1948.792066</td>\n",
       "    </tr>\n",
       "    <tr>\n",
       "      <th>12</th>\n",
       "      <td>1376.572673</td>\n",
       "      <td>2091.270956</td>\n",
       "    </tr>\n",
       "    <tr>\n",
       "      <th>13</th>\n",
       "      <td>1200.785645</td>\n",
       "      <td>1902.140383</td>\n",
       "    </tr>\n",
       "    <tr>\n",
       "      <th>14</th>\n",
       "      <td>1598.967089</td>\n",
       "      <td>2545.746585</td>\n",
       "    </tr>\n",
       "    <tr>\n",
       "      <th>15</th>\n",
       "      <td>316.874205</td>\n",
       "      <td>1488.362295</td>\n",
       "    </tr>\n",
       "    <tr>\n",
       "      <th>16</th>\n",
       "      <td>828.286193</td>\n",
       "      <td>2096.877851</td>\n",
       "    </tr>\n",
       "    <tr>\n",
       "      <th>17</th>\n",
       "      <td>1493.273772</td>\n",
       "      <td>2221.445892</td>\n",
       "    </tr>\n",
       "    <tr>\n",
       "      <th>18</th>\n",
       "      <td>1527.123083</td>\n",
       "      <td>2577.196799</td>\n",
       "    </tr>\n",
       "  </tbody>\n",
       "</table>\n",
       "</div>"
      ],
      "text/plain": [
       "              x            y\n",
       "0   1114.556392  1883.775735\n",
       "1    347.784943  1652.178091\n",
       "2   1415.962928  2518.982543\n",
       "3   1761.667258  2215.854426\n",
       "4     33.086990  1521.327516\n",
       "5   1489.452342  2342.996002\n",
       "6    619.314942  1512.490636\n",
       "7   1265.767746  2186.219981\n",
       "8    147.871262  1540.676060\n",
       "9   1602.304038  2323.590241\n",
       "10  1267.111068  1873.563836\n",
       "11   914.036264  1948.792066\n",
       "12  1376.572673  2091.270956\n",
       "13  1200.785645  1902.140383\n",
       "14  1598.967089  2545.746585\n",
       "15   316.874205  1488.362295\n",
       "16   828.286193  2096.877851\n",
       "17  1493.273772  2221.445892\n",
       "18  1527.123083  2577.196799"
      ]
     },
     "execution_count": 23,
     "metadata": {},
     "output_type": "execute_result"
    }
   ],
   "source": [
    "data"
   ]
  },
  {
   "cell_type": "code",
   "execution_count": 27,
   "metadata": {
    "collapsed": false
   },
   "outputs": [
    {
     "data": {
      "text/plain": [
       "0     1883.775735\n",
       "1     1652.178091\n",
       "2     2518.982543\n",
       "3     2215.854426\n",
       "4     1521.327516\n",
       "5     2342.996002\n",
       "6     1512.490636\n",
       "7     2186.219981\n",
       "8     1540.676060\n",
       "9     2323.590241\n",
       "10    1873.563836\n",
       "11    1948.792066\n",
       "12    2091.270956\n",
       "13    1902.140383\n",
       "14    2545.746585\n",
       "15    1488.362295\n",
       "16    2096.877851\n",
       "17    2221.445892\n",
       "18    2577.196799\n",
       "Name: y, dtype: float64"
      ]
     },
     "execution_count": 27,
     "metadata": {},
     "output_type": "execute_result"
    }
   ],
   "source": [
    "\n",
    "data.y"
   ]
  },
  {
   "cell_type": "code",
   "execution_count": 28,
   "metadata": {
    "collapsed": false
   },
   "outputs": [
    {
     "data": {
      "text/plain": [
       "<matplotlib.axes._subplots.AxesSubplot at 0x11316b390>"
      ]
     },
     "execution_count": 28,
     "metadata": {},
     "output_type": "execute_result"
    },
    {
     "data": {
      "image/png": "[encoded data removed]",
      "text/plain": [
       "<matplotlib.figure.Figure at 0x11316b588>"
      ]
     },
     "metadata": {},
     "output_type": "display_data"
    }
   ],
   "source": [
    "# grafico de dispercion\n",
    "data.plot(kind='scatter', x='x', y='y')"
   ]
  },
  {
   "cell_type": "markdown",
   "metadata": {},
   "source": [
    "Vamos a  estimar un modelo MCO normalito, nuestro modelo será:\n",
    "\n",
    "### $$ y_i = \\beta_0 + \\beta_1 x_i $$\n",
    "\n",
    "Según la teoría econométrica, escribimos la ecuación matricialmente:\n",
    "\n",
    "### $$ y = X\\beta + \\varepsilon $$ \n",
    "\n",
    "Por tanto nuestros parámetros estimados serán:\n",
    "\n",
    "### $$ \\hat\\beta = (X^TX)^{-1}X^Ty\\ $$\n",
    "\n",
    "nota: [art. wikipedia](https://es.wikipedia.org/wiki/M%C3%ADnimos_cuadrados_ordinarios)"
   ]
  },
  {
   "cell_type": "markdown",
   "metadata": {},
   "source": [
    "# MÉTODO 1\n",
    "## Numpy y la matriz de parámetros estimados\n",
    "\n"
   ]
  },
  {
   "cell_type": "code",
   "execution_count": 29,
   "metadata": {
    "collapsed": true
   },
   "outputs": [],
   "source": [
    "# mco con numpy\n",
    "X = np.asarray(data.x)\n"
   ]
  },
  {
   "cell_type": "code",
   "execution_count": 32,
   "metadata": {
    "collapsed": false
   },
   "outputs": [
    {
     "data": {
      "text/plain": [
       "19"
      ]
     },
     "execution_count": 32,
     "metadata": {},
     "output_type": "execute_result"
    }
   ],
   "source": [
    "len(X)"
   ]
  },
  {
   "cell_type": "code",
   "execution_count": 34,
   "metadata": {
    "collapsed": false
   },
   "outputs": [],
   "source": [
    "# agregar el termino independiente\n",
    "X = np.vstack([[1] * len(X), X])"
   ]
  },
  {
   "cell_type": "code",
   "execution_count": 36,
   "metadata": {
    "collapsed": false
   },
   "outputs": [
    {
     "data": {
      "text/plain": [
       "array([[  1.00000000e+00,   1.11455639e+03],\n",
       "       [  1.00000000e+00,   3.47784943e+02],\n",
       "       [  1.00000000e+00,   1.41596293e+03],\n",
       "       [  1.00000000e+00,   1.76166726e+03],\n",
       "       [  1.00000000e+00,   3.30869901e+01],\n",
       "       [  1.00000000e+00,   1.48945234e+03],\n",
       "       [  1.00000000e+00,   6.19314942e+02],\n",
       "       [  1.00000000e+00,   1.26576775e+03],\n",
       "       [  1.00000000e+00,   1.47871262e+02],\n",
       "       [  1.00000000e+00,   1.60230404e+03],\n",
       "       [  1.00000000e+00,   1.26711107e+03],\n",
       "       [  1.00000000e+00,   9.14036264e+02],\n",
       "       [  1.00000000e+00,   1.37657267e+03],\n",
       "       [  1.00000000e+00,   1.20078564e+03],\n",
       "       [  1.00000000e+00,   1.59896709e+03],\n",
       "       [  1.00000000e+00,   3.16874205e+02],\n",
       "       [  1.00000000e+00,   8.28286193e+02],\n",
       "       [  1.00000000e+00,   1.49327377e+03],\n",
       "       [  1.00000000e+00,   1.52712308e+03]])"
      ]
     },
     "execution_count": 36,
     "metadata": {},
     "output_type": "execute_result"
    }
   ],
   "source": [
    "X.T"
   ]
  },
  {
   "cell_type": "code",
   "execution_count": 48,
   "metadata": {
    "collapsed": false
   },
   "outputs": [],
   "source": [
    "# convertir en matriz\n",
    "X = np.asmatrix(X).T"
   ]
  },
  {
   "cell_type": "code",
   "execution_count": 49,
   "metadata": {
    "collapsed": false
   },
   "outputs": [
    {
     "data": {
      "text/plain": [
       "matrix([[  1.00000000e+00,   1.11455639e+03],\n",
       "        [  1.00000000e+00,   3.47784943e+02],\n",
       "        [  1.00000000e+00,   1.41596293e+03],\n",
       "        [  1.00000000e+00,   1.76166726e+03],\n",
       "        [  1.00000000e+00,   3.30869901e+01],\n",
       "        [  1.00000000e+00,   1.48945234e+03],\n",
       "        [  1.00000000e+00,   6.19314942e+02],\n",
       "        [  1.00000000e+00,   1.26576775e+03],\n",
       "        [  1.00000000e+00,   1.47871262e+02],\n",
       "        [  1.00000000e+00,   1.60230404e+03],\n",
       "        [  1.00000000e+00,   1.26711107e+03],\n",
       "        [  1.00000000e+00,   9.14036264e+02],\n",
       "        [  1.00000000e+00,   1.37657267e+03],\n",
       "        [  1.00000000e+00,   1.20078564e+03],\n",
       "        [  1.00000000e+00,   1.59896709e+03],\n",
       "        [  1.00000000e+00,   3.16874205e+02],\n",
       "        [  1.00000000e+00,   8.28286193e+02],\n",
       "        [  1.00000000e+00,   1.49327377e+03],\n",
       "        [  1.00000000e+00,   1.52712308e+03]])"
      ]
     },
     "execution_count": 49,
     "metadata": {},
     "output_type": "execute_result"
    }
   ],
   "source": [
    "X"
   ]
  },
  {
   "cell_type": "code",
   "execution_count": 50,
   "metadata": {
    "collapsed": false
   },
   "outputs": [],
   "source": [
    "# resultados\n",
    "y = np.asmatrix(data.y).T"
   ]
  },
  {
   "cell_type": "code",
   "execution_count": 51,
   "metadata": {
    "collapsed": false
   },
   "outputs": [
    {
     "data": {
      "text/plain": [
       "matrix([[ 1883.77573485],\n",
       "        [ 1652.1780913 ],\n",
       "        [ 2518.98254337],\n",
       "        [ 2215.85442624],\n",
       "        [ 1521.32751605],\n",
       "        [ 2342.996002  ],\n",
       "        [ 1512.49063626],\n",
       "        [ 2186.21998145],\n",
       "        [ 1540.67605959],\n",
       "        [ 2323.59024057],\n",
       "        [ 1873.56383646],\n",
       "        [ 1948.79206636],\n",
       "        [ 2091.27095626],\n",
       "        [ 1902.14038347],\n",
       "        [ 2545.74658461],\n",
       "        [ 1488.36229513],\n",
       "        [ 2096.87785078],\n",
       "        [ 2221.44589198],\n",
       "        [ 2577.19679927]])"
      ]
     },
     "execution_count": 51,
     "metadata": {},
     "output_type": "execute_result"
    }
   ],
   "source": [
    "y"
   ]
  },
  {
   "cell_type": "code",
   "execution_count": 53,
   "metadata": {
    "collapsed": false
   },
   "outputs": [],
   "source": [
    "beta_hat = (X.T * X) ** -1 * X.T * y"
   ]
  },
  {
   "cell_type": "code",
   "execution_count": 54,
   "metadata": {
    "collapsed": false
   },
   "outputs": [
    {
     "data": {
      "text/plain": [
       "matrix([[  1.39306270e+03],\n",
       "        [  5.89312292e-01]])"
      ]
     },
     "execution_count": 54,
     "metadata": {},
     "output_type": "execute_result"
    }
   ],
   "source": [
    "beta_hat"
   ]
  },
  {
   "cell_type": "code",
   "execution_count": 55,
   "metadata": {
    "collapsed": false
   },
   "outputs": [],
   "source": [
    "# y_estimado\n",
    "y_hat = X * beta_hat"
   ]
  },
  {
   "cell_type": "code",
   "execution_count": 56,
   "metadata": {
    "collapsed": false
   },
   "outputs": [
    {
     "data": {
      "text/plain": [
       "matrix([[ 2049.88448486],\n",
       "        [ 1598.01664519],\n",
       "        [ 2227.50706158],\n",
       "        [ 2431.23487279],\n",
       "        [ 1412.56127342],\n",
       "        [ 2270.81527678],\n",
       "        [ 1758.03261144],\n",
       "        [ 2138.99519484],\n",
       "        [ 1480.20505549],\n",
       "        [ 2337.32016796],\n",
       "        [ 2139.78683096],\n",
       "        [ 1931.71550901],\n",
       "        [ 2204.29389992],\n",
       "        [ 2100.7004436 ],\n",
       "        [ 2335.35366312],\n",
       "        [ 1579.8005675 ],\n",
       "        [ 1881.18193815],\n",
       "        [ 2273.06729199],\n",
       "        [ 2293.0151074 ]])"
      ]
     },
     "execution_count": 56,
     "metadata": {},
     "output_type": "execute_result"
    }
   ],
   "source": [
    "y_hat"
   ]
  },
  {
   "cell_type": "code",
   "execution_count": 58,
   "metadata": {
    "collapsed": false
   },
   "outputs": [
    {
     "data": {
      "text/plain": [
       "[<matplotlib.lines.Line2D at 0x113437da0>]"
      ]
     },
     "execution_count": 58,
     "metadata": {},
     "output_type": "execute_result"
    },
    {
     "data": {
      "image/png": "[encoded data removed]",
      "text/plain": [
       "<matplotlib.figure.Figure at 0x113437d68>"
      ]
     },
     "metadata": {},
     "output_type": "display_data"
    }
   ],
   "source": [
    "# gráfico de la serie y e y_estimado\n",
    "plt.plot(y_hat)\n",
    "plt.plot(data.y)"
   ]
  },
  {
   "cell_type": "code",
   "execution_count": 60,
   "metadata": {
    "collapsed": false
   },
   "outputs": [
    {
     "data": {
      "text/plain": [
       "[<matplotlib.lines.Line2D at 0x1136ae630>]"
      ]
     },
     "execution_count": 60,
     "metadata": {},
     "output_type": "execute_result"
    },
    {
     "data": {
      "image/png": "[encoded data removed]",
      "text/plain": [
       "<matplotlib.figure.Figure at 0x1136ae080>"
      ]
     },
     "metadata": {},
     "output_type": "display_data"
    }
   ],
   "source": [
    "# gráfico de disperción y regresión\n",
    "data.plot(kind='scatter', x='x', y='y')\n",
    "plt.plot(data.x, y_hat, color='red')"
   ]
  },
  {
   "cell_type": "markdown",
   "metadata": {},
   "source": [
    "# MÉTODO 2\n",
    "# Pandas y el método OLS"
   ]
  },
  {
   "cell_type": "code",
   "execution_count": 61,
   "metadata": {
    "collapsed": false
   },
   "outputs": [
    {
     "data": {
      "text/html": [
       "<div>\n",
       "<table border=\"1\" class=\"dataframe\">\n",
       "  <thead>\n",
       "    <tr style=\"text-align: right;\">\n",
       "      <th></th>\n",
       "      <th>x</th>\n",
       "      <th>y</th>\n",
       "    </tr>\n",
       "  </thead>\n",
       "  <tbody>\n",
       "    <tr>\n",
       "      <th>0</th>\n",
       "      <td>1114.556392</td>\n",
       "      <td>1883.775735</td>\n",
       "    </tr>\n",
       "    <tr>\n",
       "      <th>1</th>\n",
       "      <td>347.784943</td>\n",
       "      <td>1652.178091</td>\n",
       "    </tr>\n",
       "    <tr>\n",
       "      <th>2</th>\n",
       "      <td>1415.962928</td>\n",
       "      <td>2518.982543</td>\n",
       "    </tr>\n",
       "    <tr>\n",
       "      <th>3</th>\n",
       "      <td>1761.667258</td>\n",
       "      <td>2215.854426</td>\n",
       "    </tr>\n",
       "    <tr>\n",
       "      <th>4</th>\n",
       "      <td>33.086990</td>\n",
       "      <td>1521.327516</td>\n",
       "    </tr>\n",
       "    <tr>\n",
       "      <th>5</th>\n",
       "      <td>1489.452342</td>\n",
       "      <td>2342.996002</td>\n",
       "    </tr>\n",
       "    <tr>\n",
       "      <th>6</th>\n",
       "      <td>619.314942</td>\n",
       "      <td>1512.490636</td>\n",
       "    </tr>\n",
       "    <tr>\n",
       "      <th>7</th>\n",
       "      <td>1265.767746</td>\n",
       "      <td>2186.219981</td>\n",
       "    </tr>\n",
       "    <tr>\n",
       "      <th>8</th>\n",
       "      <td>147.871262</td>\n",
       "      <td>1540.676060</td>\n",
       "    </tr>\n",
       "    <tr>\n",
       "      <th>9</th>\n",
       "      <td>1602.304038</td>\n",
       "      <td>2323.590241</td>\n",
       "    </tr>\n",
       "    <tr>\n",
       "      <th>10</th>\n",
       "      <td>1267.111068</td>\n",
       "      <td>1873.563836</td>\n",
       "    </tr>\n",
       "    <tr>\n",
       "      <th>11</th>\n",
       "      <td>914.036264</td>\n",
       "      <td>1948.792066</td>\n",
       "    </tr>\n",
       "    <tr>\n",
       "      <th>12</th>\n",
       "      <td>1376.572673</td>\n",
       "      <td>2091.270956</td>\n",
       "    </tr>\n",
       "    <tr>\n",
       "      <th>13</th>\n",
       "      <td>1200.785645</td>\n",
       "      <td>1902.140383</td>\n",
       "    </tr>\n",
       "    <tr>\n",
       "      <th>14</th>\n",
       "      <td>1598.967089</td>\n",
       "      <td>2545.746585</td>\n",
       "    </tr>\n",
       "    <tr>\n",
       "      <th>15</th>\n",
       "      <td>316.874205</td>\n",
       "      <td>1488.362295</td>\n",
       "    </tr>\n",
       "    <tr>\n",
       "      <th>16</th>\n",
       "      <td>828.286193</td>\n",
       "      <td>2096.877851</td>\n",
       "    </tr>\n",
       "    <tr>\n",
       "      <th>17</th>\n",
       "      <td>1493.273772</td>\n",
       "      <td>2221.445892</td>\n",
       "    </tr>\n",
       "    <tr>\n",
       "      <th>18</th>\n",
       "      <td>1527.123083</td>\n",
       "      <td>2577.196799</td>\n",
       "    </tr>\n",
       "  </tbody>\n",
       "</table>\n",
       "</div>"
      ],
      "text/plain": [
       "              x            y\n",
       "0   1114.556392  1883.775735\n",
       "1    347.784943  1652.178091\n",
       "2   1415.962928  2518.982543\n",
       "3   1761.667258  2215.854426\n",
       "4     33.086990  1521.327516\n",
       "5   1489.452342  2342.996002\n",
       "6    619.314942  1512.490636\n",
       "7   1265.767746  2186.219981\n",
       "8    147.871262  1540.676060\n",
       "9   1602.304038  2323.590241\n",
       "10  1267.111068  1873.563836\n",
       "11   914.036264  1948.792066\n",
       "12  1376.572673  2091.270956\n",
       "13  1200.785645  1902.140383\n",
       "14  1598.967089  2545.746585\n",
       "15   316.874205  1488.362295\n",
       "16   828.286193  2096.877851\n",
       "17  1493.273772  2221.445892\n",
       "18  1527.123083  2577.196799"
      ]
     },
     "execution_count": 61,
     "metadata": {},
     "output_type": "execute_result"
    }
   ],
   "source": [
    "# dataframe\n",
    "data"
   ]
  },
  {
   "cell_type": "code",
   "execution_count": 64,
   "metadata": {
    "collapsed": false
   },
   "outputs": [
    {
     "data": {
      "text/plain": [
       "\n",
       "-------------------------Summary of Regression Analysis-------------------------\n",
       "\n",
       "Formula: Y ~ <x> + <intercept>\n",
       "\n",
       "Number of Observations:         19\n",
       "Number of Degrees of Freedom:   2\n",
       "\n",
       "R-squared:         0.7667\n",
       "Adj R-squared:     0.7530\n",
       "\n",
       "Rmse:            180.0686\n",
       "\n",
       "F-stat (1, 17):    55.8637, p-value:     0.0000\n",
       "\n",
       "Degrees of Freedom: model 1, resid 17\n",
       "\n",
       "-----------------------Summary of Estimated Coefficients------------------------\n",
       "      Variable       Coef    Std Err     t-stat    p-value    CI 2.5%   CI 97.5%\n",
       "--------------------------------------------------------------------------------\n",
       "             x     0.5893     0.0788       7.47     0.0000     0.4348     0.7439\n",
       "     intercept  1393.0627    93.9023      14.84     0.0000  1209.0142  1577.1112\n",
       "---------------------------------End of Summary---------------------------------"
      ]
     },
     "execution_count": 64,
     "metadata": {},
     "output_type": "execute_result"
    }
   ],
   "source": [
    "# modelo\n",
    "\n",
    "modelo2 = pd.ols(x=data.x, y=data.y, intercept=True)\n",
    "modelo2"
   ]
  },
  {
   "cell_type": "code",
   "execution_count": 67,
   "metadata": {
    "collapsed": false
   },
   "outputs": [
    {
     "data": {
      "text/plain": [
       "<matplotlib.axes._subplots.AxesSubplot at 0x1163d42b0>"
      ]
     },
     "execution_count": 67,
     "metadata": {},
     "output_type": "execute_result"
    },
    {
     "data": {
      "image/png": "[encoded data removed]",
      "text/plain": [
       "<matplotlib.figure.Figure at 0x1163b5908>"
      ]
     },
     "metadata": {},
     "output_type": "display_data"
    }
   ],
   "source": [
    "# grafico de las series y e y_estimado\n",
    "modelo2.y_fitted.plot()\n",
    "data.y.plot()"
   ]
  },
  {
   "cell_type": "code",
   "execution_count": 70,
   "metadata": {
    "collapsed": false
   },
   "outputs": [
    {
     "data": {
      "text/plain": [
       "[<matplotlib.lines.Line2D at 0x116596860>]"
      ]
     },
     "execution_count": 70,
     "metadata": {},
     "output_type": "execute_result"
    },
    {
     "data": {
      "image/png": "[encoded data removed]",
      "text/plain": [
       "<matplotlib.figure.Figure at 0x116596908>"
      ]
     },
     "metadata": {},
     "output_type": "display_data"
    }
   ],
   "source": [
    "# gráfico de disperción y regresión\n",
    "data.plot(kind='scatter', x='x', y='y')\n",
    "plt.plot(data.x, modelo2.y_fitted, color='red')"
   ]
  },
  {
   "cell_type": "markdown",
   "metadata": {},
   "source": [
    "# MÉTODO 3\n",
    "## Statsmodels"
   ]
  },
  {
   "cell_type": "code",
   "execution_count": 71,
   "metadata": {
    "collapsed": true
   },
   "outputs": [],
   "source": [
    "# importar\n",
    "import statsmodels.api as sm"
   ]
  },
  {
   "cell_type": "code",
   "execution_count": 73,
   "metadata": {
    "collapsed": true
   },
   "outputs": [],
   "source": [
    "# definir x e y\n",
    "x = data.x\n",
    "y = data.y\n",
    "# agregar constante\n",
    "x = sm.add_constant(x)"
   ]
  },
  {
   "cell_type": "code",
   "execution_count": 74,
   "metadata": {
    "collapsed": false
   },
   "outputs": [
    {
     "data": {
      "text/html": [
       "<div>\n",
       "<table border=\"1\" class=\"dataframe\">\n",
       "  <thead>\n",
       "    <tr style=\"text-align: right;\">\n",
       "      <th></th>\n",
       "      <th>const</th>\n",
       "      <th>x</th>\n",
       "    </tr>\n",
       "  </thead>\n",
       "  <tbody>\n",
       "    <tr>\n",
       "      <th>0</th>\n",
       "      <td>1</td>\n",
       "      <td>1114.556392</td>\n",
       "    </tr>\n",
       "    <tr>\n",
       "      <th>1</th>\n",
       "      <td>1</td>\n",
       "      <td>347.784943</td>\n",
       "    </tr>\n",
       "    <tr>\n",
       "      <th>2</th>\n",
       "      <td>1</td>\n",
       "      <td>1415.962928</td>\n",
       "    </tr>\n",
       "    <tr>\n",
       "      <th>3</th>\n",
       "      <td>1</td>\n",
       "      <td>1761.667258</td>\n",
       "    </tr>\n",
       "    <tr>\n",
       "      <th>4</th>\n",
       "      <td>1</td>\n",
       "      <td>33.086990</td>\n",
       "    </tr>\n",
       "    <tr>\n",
       "      <th>5</th>\n",
       "      <td>1</td>\n",
       "      <td>1489.452342</td>\n",
       "    </tr>\n",
       "    <tr>\n",
       "      <th>6</th>\n",
       "      <td>1</td>\n",
       "      <td>619.314942</td>\n",
       "    </tr>\n",
       "    <tr>\n",
       "      <th>7</th>\n",
       "      <td>1</td>\n",
       "      <td>1265.767746</td>\n",
       "    </tr>\n",
       "    <tr>\n",
       "      <th>8</th>\n",
       "      <td>1</td>\n",
       "      <td>147.871262</td>\n",
       "    </tr>\n",
       "    <tr>\n",
       "      <th>9</th>\n",
       "      <td>1</td>\n",
       "      <td>1602.304038</td>\n",
       "    </tr>\n",
       "    <tr>\n",
       "      <th>10</th>\n",
       "      <td>1</td>\n",
       "      <td>1267.111068</td>\n",
       "    </tr>\n",
       "    <tr>\n",
       "      <th>11</th>\n",
       "      <td>1</td>\n",
       "      <td>914.036264</td>\n",
       "    </tr>\n",
       "    <tr>\n",
       "      <th>12</th>\n",
       "      <td>1</td>\n",
       "      <td>1376.572673</td>\n",
       "    </tr>\n",
       "    <tr>\n",
       "      <th>13</th>\n",
       "      <td>1</td>\n",
       "      <td>1200.785645</td>\n",
       "    </tr>\n",
       "    <tr>\n",
       "      <th>14</th>\n",
       "      <td>1</td>\n",
       "      <td>1598.967089</td>\n",
       "    </tr>\n",
       "    <tr>\n",
       "      <th>15</th>\n",
       "      <td>1</td>\n",
       "      <td>316.874205</td>\n",
       "    </tr>\n",
       "    <tr>\n",
       "      <th>16</th>\n",
       "      <td>1</td>\n",
       "      <td>828.286193</td>\n",
       "    </tr>\n",
       "    <tr>\n",
       "      <th>17</th>\n",
       "      <td>1</td>\n",
       "      <td>1493.273772</td>\n",
       "    </tr>\n",
       "    <tr>\n",
       "      <th>18</th>\n",
       "      <td>1</td>\n",
       "      <td>1527.123083</td>\n",
       "    </tr>\n",
       "  </tbody>\n",
       "</table>\n",
       "</div>"
      ],
      "text/plain": [
       "    const            x\n",
       "0       1  1114.556392\n",
       "1       1   347.784943\n",
       "2       1  1415.962928\n",
       "3       1  1761.667258\n",
       "4       1    33.086990\n",
       "5       1  1489.452342\n",
       "6       1   619.314942\n",
       "7       1  1265.767746\n",
       "8       1   147.871262\n",
       "9       1  1602.304038\n",
       "10      1  1267.111068\n",
       "11      1   914.036264\n",
       "12      1  1376.572673\n",
       "13      1  1200.785645\n",
       "14      1  1598.967089\n",
       "15      1   316.874205\n",
       "16      1   828.286193\n",
       "17      1  1493.273772\n",
       "18      1  1527.123083"
      ]
     },
     "execution_count": 74,
     "metadata": {},
     "output_type": "execute_result"
    }
   ],
   "source": [
    "x"
   ]
  },
  {
   "cell_type": "code",
   "execution_count": 75,
   "metadata": {
    "collapsed": true
   },
   "outputs": [],
   "source": [
    "# modelo\n",
    "modelo3 = sm.OLS(endog=y, exog=x)"
   ]
  },
  {
   "cell_type": "code",
   "execution_count": 76,
   "metadata": {
    "collapsed": true
   },
   "outputs": [],
   "source": [
    "# regresión\n",
    "regresion = modelo3.fit()"
   ]
  },
  {
   "cell_type": "code",
   "execution_count": 77,
   "metadata": {
    "collapsed": false
   },
   "outputs": [
    {
     "name": "stderr",
     "output_type": "stream",
     "text": [
      "/Users/mmngreco/anaconda/envs/py3/lib/python3.4/site-packages/scipy/stats/stats.py:1277: UserWarning: kurtosistest only valid for n>=20 ... continuing anyway, n=19\n",
      "  \"anyway, n=%i\" % int(n))\n"
     ]
    },
    {
     "data": {
      "text/html": [
       "<table class=\"simpletable\">\n",
       "<caption>OLS Regression Results</caption>\n",
       "<tr>\n",
       "  <th>Dep. Variable:</th>            <td>y</td>        <th>  R-squared:         </th> <td>   0.767</td>\n",
       "</tr>\n",
       "<tr>\n",
       "  <th>Model:</th>                   <td>OLS</td>       <th>  Adj. R-squared:    </th> <td>   0.753</td>\n",
       "</tr>\n",
       "<tr>\n",
       "  <th>Method:</th>             <td>Least Squares</td>  <th>  F-statistic:       </th> <td>   55.86</td>\n",
       "</tr>\n",
       "<tr>\n",
       "  <th>Date:</th>             <td>Mon, 14 Sep 2015</td> <th>  Prob (F-statistic):</th> <td>9.09e-07</td>\n",
       "</tr>\n",
       "<tr>\n",
       "  <th>Time:</th>                 <td>13:49:53</td>     <th>  Log-Likelihood:    </th> <td> -124.58</td>\n",
       "</tr>\n",
       "<tr>\n",
       "  <th>No. Observations:</th>      <td>    19</td>      <th>  AIC:               </th> <td>   253.2</td>\n",
       "</tr>\n",
       "<tr>\n",
       "  <th>Df Residuals:</th>          <td>    17</td>      <th>  BIC:               </th> <td>   255.0</td>\n",
       "</tr>\n",
       "<tr>\n",
       "  <th>Df Model:</th>              <td>     1</td>      <th>                     </th>     <td> </td>   \n",
       "</tr>\n",
       "<tr>\n",
       "  <th>Covariance Type:</th>      <td>nonrobust</td>    <th>                     </th>     <td> </td>   \n",
       "</tr>\n",
       "</table>\n",
       "<table class=\"simpletable\">\n",
       "<tr>\n",
       "    <td></td>       <th>coef</th>     <th>std err</th>      <th>t</th>      <th>P>|t|</th> <th>[95.0% Conf. Int.]</th> \n",
       "</tr>\n",
       "<tr>\n",
       "  <th>const</th> <td> 1393.0627</td> <td>   93.902</td> <td>   14.835</td> <td> 0.000</td> <td> 1194.946  1591.179</td>\n",
       "</tr>\n",
       "<tr>\n",
       "  <th>x</th>     <td>    0.5893</td> <td>    0.079</td> <td>    7.474</td> <td> 0.000</td> <td>    0.423     0.756</td>\n",
       "</tr>\n",
       "</table>\n",
       "<table class=\"simpletable\">\n",
       "<tr>\n",
       "  <th>Omnibus:</th>       <td> 1.405</td> <th>  Durbin-Watson:     </th> <td>   2.477</td>\n",
       "</tr>\n",
       "<tr>\n",
       "  <th>Prob(Omnibus):</th> <td> 0.495</td> <th>  Jarque-Bera (JB):  </th> <td>   0.890</td>\n",
       "</tr>\n",
       "<tr>\n",
       "  <th>Skew:</th>          <td> 0.115</td> <th>  Prob(JB):          </th> <td>   0.641</td>\n",
       "</tr>\n",
       "<tr>\n",
       "  <th>Kurtosis:</th>      <td> 1.965</td> <th>  Cond. No.          </th> <td>2.71e+03</td>\n",
       "</tr>\n",
       "</table>"
      ],
      "text/plain": [
       "<class 'statsmodels.iolib.summary.Summary'>\n",
       "\"\"\"\n",
       "                            OLS Regression Results                            \n",
       "==============================================================================\n",
       "Dep. Variable:                      y   R-squared:                       0.767\n",
       "Model:                            OLS   Adj. R-squared:                  0.753\n",
       "Method:                 Least Squares   F-statistic:                     55.86\n",
       "Date:                Mon, 14 Sep 2015   Prob (F-statistic):           9.09e-07\n",
       "Time:                        13:49:53   Log-Likelihood:                -124.58\n",
       "No. Observations:                  19   AIC:                             253.2\n",
       "Df Residuals:                      17   BIC:                             255.0\n",
       "Df Model:                           1                                         \n",
       "Covariance Type:            nonrobust                                         \n",
       "==============================================================================\n",
       "                 coef    std err          t      P>|t|      [95.0% Conf. Int.]\n",
       "------------------------------------------------------------------------------\n",
       "const       1393.0627     93.902     14.835      0.000      1194.946  1591.179\n",
       "x              0.5893      0.079      7.474      0.000         0.423     0.756\n",
       "==============================================================================\n",
       "Omnibus:                        1.405   Durbin-Watson:                   2.477\n",
       "Prob(Omnibus):                  0.495   Jarque-Bera (JB):                0.890\n",
       "Skew:                           0.115   Prob(JB):                        0.641\n",
       "Kurtosis:                       1.965   Cond. No.                     2.71e+03\n",
       "==============================================================================\n",
       "\n",
       "Warnings:\n",
       "[1] Standard Errors assume that the covariance matrix of the errors is correctly specified.\n",
       "[2] The condition number is large, 2.71e+03. This might indicate that there are\n",
       "strong multicollinearity or other numerical problems.\n",
       "\"\"\""
      ]
     },
     "execution_count": 77,
     "metadata": {},
     "output_type": "execute_result"
    }
   ],
   "source": [
    "# resumen\n",
    "regresion.summary()"
   ]
  },
  {
   "cell_type": "code",
   "execution_count": 80,
   "metadata": {
    "collapsed": false
   },
   "outputs": [
    {
     "data": {
      "text/plain": [
       "const    1393.062703\n",
       "x           0.589312\n",
       "dtype: float64"
      ]
     },
     "execution_count": 80,
     "metadata": {},
     "output_type": "execute_result"
    }
   ],
   "source": [
    "# parámetros\n",
    "\n",
    "regresion.params"
   ]
  },
  {
   "cell_type": "code",
   "execution_count": 83,
   "metadata": {
    "collapsed": false
   },
   "outputs": [
    {
     "data": {
      "text/plain": [
       "<matplotlib.axes._subplots.AxesSubplot at 0x1168d9b00>"
      ]
     },
     "execution_count": 83,
     "metadata": {},
     "output_type": "execute_result"
    },
    {
     "data": {
      "image/png": "[encoded data removed]",
      "text/plain": [
       "<matplotlib.figure.Figure at 0x1168df198>"
      ]
     },
     "metadata": {},
     "output_type": "display_data"
    }
   ],
   "source": [
    "# gráfico de las series y e y_estimado\n",
    "plt.plot(regresion.fittedvalues)\n",
    "data.y.plot()"
   ]
  },
  {
   "cell_type": "code",
   "execution_count": 85,
   "metadata": {
    "collapsed": false
   },
   "outputs": [
    {
     "data": {
      "text/plain": [
       "[<matplotlib.lines.Line2D at 0x116a4b240>]"
      ]
     },
     "execution_count": 85,
     "metadata": {},
     "output_type": "execute_result"
    },
    {
     "data": {
      "image/png": "[encoded data removed]",
      "text/plain": [
       "<matplotlib.figure.Figure at 0x116a4b278>"
      ]
     },
     "metadata": {},
     "output_type": "display_data"
    }
   ],
   "source": [
    "# gráfico de disperción y regresión\n",
    "data.plot(kind='scatter', x='x', y='y')\n",
    "plt.plot(data.x, regresion.fittedvalues, color='red')"
   ]
  },
  {
   "cell_type": "code",
   "execution_count": 87,
   "metadata": {
    "collapsed": false
   },
   "outputs": [
    {
     "data": {
      "text/plain": [
       "<matplotlib.axes._subplots.AxesSubplot at 0x116a6dba8>"
      ]
     },
     "execution_count": 87,
     "metadata": {},
     "output_type": "execute_result"
    },
    {
     "data": {
      "image/png": "[encoded data removed]",
      "text/plain": [
       "<matplotlib.figure.Figure at 0x116b8c4e0>"
      ]
     },
     "metadata": {},
     "output_type": "display_data"
    }
   ],
   "source": [
    "# residuos\n",
    "regresion.resid.plot(kind='bar')"
   ]
  },
  {
   "cell_type": "code",
   "execution_count": null,
   "metadata": {
    "collapsed": true
   },
   "outputs": [],
   "source": []
  }
 ],
 "metadata": {
  "kernelspec": {
   "display_name": "Python 3",
   "language": "python",
   "name": "python3"
  },
  "language_info": {
   "codemirror_mode": {
    "name": "ipython",
    "version": 3
   },
   "file_extension": ".py",
   "mimetype": "text/x-python",
   "name": "python",
   "nbconvert_exporter": "python",
   "pygments_lexer": "ipython3",
   "version": "3.4.3"
  }
 },
 "nbformat": 4,
 "nbformat_minor": 0
}

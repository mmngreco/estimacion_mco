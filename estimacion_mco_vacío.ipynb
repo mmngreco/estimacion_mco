{
 "cells": [
  {
   "cell_type": "markdown",
   "metadata": {},
   "source": [
    "# TRES MÉTODOS DISTINTOS PARA HACER UNA ESTIMACIÓN MCO EN PYTHON\n",
    "\n",
    "## NECESITAMOS\n",
    "\n",
    "- [DATOS](https://github.com/mmngreco/estimacion_mco/tree/master/files)\n",
    "- LIBRERIAS\n",
    "    - [STATSMODELS](http://statsmodels.sourceforge.net/)\n",
    "    - [PANDAS](http://pandas.pydata.org/pandas-docs/stable/)\n",
    "    - [NUMPY](http://docs.scipy.org/doc/numpy/reference/)"
   ]
  },
  {
   "cell_type": "code",
   "execution_count": 1,
   "metadata": {
    "collapsed": false
   },
   "outputs": [],
   "source": [
    "# importar las librerias\n",
    "import pandas as pd\n",
    "import matplotlib.pyplot as plt"
   ]
  },
  {
   "cell_type": "code",
   "execution_count": 2,
   "metadata": {
    "collapsed": true
   },
   "outputs": [],
   "source": [
    "%matplotlib inline"
   ]
  },
  {
   "cell_type": "code",
   "execution_count": 5,
   "metadata": {
    "collapsed": false
   },
   "outputs": [],
   "source": [
    "# importar los datos\n",
    "data = pd.read_excel('files/datos.xls', header=1)"
   ]
  },
  {
   "cell_type": "code",
   "execution_count": 10,
   "metadata": {
    "collapsed": false
   },
   "outputs": [
    {
     "data": {
      "text/plain": [
       "0     1883.775735\n",
       "1     1652.178091\n",
       "2     2518.982543\n",
       "3     2215.854426\n",
       "4     1521.327516\n",
       "5     2342.996002\n",
       "6     1512.490636\n",
       "7     2186.219981\n",
       "8     1540.676060\n",
       "9     2323.590241\n",
       "10    1873.563836\n",
       "11    1948.792066\n",
       "12    2091.270956\n",
       "13    1902.140383\n",
       "14    2545.746585\n",
       "15    1488.362295\n",
       "16    2096.877851\n",
       "17    2221.445892\n",
       "18    2577.196799\n",
       "Name: y, dtype: float64"
      ]
     },
     "execution_count": 10,
     "metadata": {},
     "output_type": "execute_result"
    }
   ],
   "source": [
    "# los datos\n",
    "data['y']"
   ]
  },
  {
   "cell_type": "code",
   "execution_count": 11,
   "metadata": {
    "collapsed": false
   },
   "outputs": [
    {
     "data": {
      "text/plain": [
       "<matplotlib.axes._subplots.AxesSubplot at 0x110cf8cc0>"
      ]
     },
     "execution_count": 11,
     "metadata": {},
     "output_type": "execute_result"
    },
    {
     "data": {
      "image/png": "[encoded data removed]",
      "text/plain": [
       "<matplotlib.figure.Figure at 0x110cf8a58>"
      ]
     },
     "metadata": {},
     "output_type": "display_data"
    }
   ],
   "source": [
    "# grafico de dispercion\n",
    "data.plot(kind='scatter', x='x', y='y')"
   ]
  },
  {
   "cell_type": "markdown",
   "metadata": {},
   "source": [
    "Vamos a  estimar un modelo MCO normalito, nuestro modelo será:\n",
    "\n",
    "### $$ y_i = \\beta_0 + \\beta_1 x_i $$\n",
    "\n",
    "Según la teoría econométrica, escribimos la ecuación matricialmente:\n",
    "\n",
    "### $$ y = X\\beta + \\varepsilon $$ \n",
    "\n",
    "Por tanto nuestros parámetros estimados serán:\n",
    "\n",
    "### $$ \\hat\\beta = (X^TX)^{-1}X^Ty\\ $$\n",
    "\n",
    "nota: [art. wikipedia](https://es.wikipedia.org/wiki/M%C3%ADnimos_cuadrados_ordinarios)"
   ]
  },
  {
   "cell_type": "markdown",
   "metadata": {},
   "source": [
    "# MÉTODO 1\n",
    "## Numpy y la matriz de parámetros estimados\n",
    "\n"
   ]
  },
  {
   "cell_type": "code",
   "execution_count": 12,
   "metadata": {
    "collapsed": true
   },
   "outputs": [],
   "source": [
    "# mco con numpy\n",
    "import numpy as np"
   ]
  },
  {
   "cell_type": "code",
   "execution_count": 18,
   "metadata": {
    "collapsed": false
   },
   "outputs": [],
   "source": [
    "X = data.x\n",
    "y = data.y\n",
    "# agregar el termino independiente\n",
    "X = np.vstack([[1]*len(X), X]).T"
   ]
  },
  {
   "cell_type": "code",
   "execution_count": 19,
   "metadata": {
    "collapsed": false
   },
   "outputs": [
    {
     "data": {
      "text/plain": [
       "array([[  1.00000000e+00,   1.11455639e+03],\n",
       "       [  1.00000000e+00,   3.47784943e+02],\n",
       "       [  1.00000000e+00,   1.41596293e+03],\n",
       "       [  1.00000000e+00,   1.76166726e+03],\n",
       "       [  1.00000000e+00,   3.30869901e+01],\n",
       "       [  1.00000000e+00,   1.48945234e+03],\n",
       "       [  1.00000000e+00,   6.19314942e+02],\n",
       "       [  1.00000000e+00,   1.26576775e+03],\n",
       "       [  1.00000000e+00,   1.47871262e+02],\n",
       "       [  1.00000000e+00,   1.60230404e+03],\n",
       "       [  1.00000000e+00,   1.26711107e+03],\n",
       "       [  1.00000000e+00,   9.14036264e+02],\n",
       "       [  1.00000000e+00,   1.37657267e+03],\n",
       "       [  1.00000000e+00,   1.20078564e+03],\n",
       "       [  1.00000000e+00,   1.59896709e+03],\n",
       "       [  1.00000000e+00,   3.16874205e+02],\n",
       "       [  1.00000000e+00,   8.28286193e+02],\n",
       "       [  1.00000000e+00,   1.49327377e+03],\n",
       "       [  1.00000000e+00,   1.52712308e+03]])"
      ]
     },
     "execution_count": 19,
     "metadata": {},
     "output_type": "execute_result"
    }
   ],
   "source": [
    "X"
   ]
  },
  {
   "cell_type": "code",
   "execution_count": 25,
   "metadata": {
    "collapsed": false
   },
   "outputs": [],
   "source": [
    "# convertir en matriz\n",
    "X = np.asmatrix(X)\n",
    "y = np.asmatrix(y).T"
   ]
  },
  {
   "cell_type": "code",
   "execution_count": 26,
   "metadata": {
    "collapsed": false
   },
   "outputs": [
    {
     "data": {
      "text/plain": [
       "matrix([[ 1883.77573485],\n",
       "        [ 1652.1780913 ],\n",
       "        [ 2518.98254337],\n",
       "        [ 2215.85442624],\n",
       "        [ 1521.32751605],\n",
       "        [ 2342.996002  ],\n",
       "        [ 1512.49063626],\n",
       "        [ 2186.21998145],\n",
       "        [ 1540.67605959],\n",
       "        [ 2323.59024057],\n",
       "        [ 1873.56383646],\n",
       "        [ 1948.79206636],\n",
       "        [ 2091.27095626],\n",
       "        [ 1902.14038347],\n",
       "        [ 2545.74658461],\n",
       "        [ 1488.36229513],\n",
       "        [ 2096.87785078],\n",
       "        [ 2221.44589198],\n",
       "        [ 2577.19679927]])"
      ]
     },
     "execution_count": 26,
     "metadata": {},
     "output_type": "execute_result"
    }
   ],
   "source": [
    "y"
   ]
  },
  {
   "cell_type": "code",
   "execution_count": 28,
   "metadata": {
    "collapsed": false
   },
   "outputs": [
    {
     "data": {
      "text/plain": [
       "matrix([[  1.39306270e+03],\n",
       "        [  5.89312292e-01]])"
      ]
     },
     "execution_count": 28,
     "metadata": {},
     "output_type": "execute_result"
    }
   ],
   "source": [
    "# resultados\n",
    "beta_hat = (X.T * X) ** -1 * X.T * y\n",
    "beta_hat"
   ]
  },
  {
   "cell_type": "markdown",
   "metadata": {},
   "source": [
    "$ \\hat{y} = X\\hat{\\beta}$"
   ]
  },
  {
   "cell_type": "code",
   "execution_count": 30,
   "metadata": {
    "collapsed": false
   },
   "outputs": [
    {
     "data": {
      "text/plain": [
       "matrix([[ 2049.88448486],\n",
       "        [ 1598.01664519],\n",
       "        [ 2227.50706158],\n",
       "        [ 2431.23487279],\n",
       "        [ 1412.56127342],\n",
       "        [ 2270.81527678],\n",
       "        [ 1758.03261144],\n",
       "        [ 2138.99519484],\n",
       "        [ 1480.20505549],\n",
       "        [ 2337.32016796],\n",
       "        [ 2139.78683096],\n",
       "        [ 1931.71550901],\n",
       "        [ 2204.29389992],\n",
       "        [ 2100.7004436 ],\n",
       "        [ 2335.35366312],\n",
       "        [ 1579.8005675 ],\n",
       "        [ 1881.18193815],\n",
       "        [ 2273.06729199],\n",
       "        [ 2293.0151074 ]])"
      ]
     },
     "execution_count": 30,
     "metadata": {},
     "output_type": "execute_result"
    }
   ],
   "source": [
    "# y_estimado\n",
    "y_hat = X * beta_hat\n",
    "y_hat"
   ]
  },
  {
   "cell_type": "code",
   "execution_count": 34,
   "metadata": {
    "collapsed": false
   },
   "outputs": [
    {
     "data": {
      "text/plain": [
       "<matplotlib.legend.Legend at 0x11332ecc0>"
      ]
     },
     "execution_count": 34,
     "metadata": {},
     "output_type": "execute_result"
    },
    {
     "data": {
      "image/png": "[encoded data removed]",
      "text/plain": [
       "<matplotlib.figure.Figure at 0x1130b25f8>"
      ]
     },
     "metadata": {},
     "output_type": "display_data"
    }
   ],
   "source": [
    "# gráfico de la serie y e y_estimado\n",
    "plt.plot(y_hat, label='y estimado')\n",
    "plt.plot(y, label='y real')\n",
    "plt.legend()"
   ]
  },
  {
   "cell_type": "code",
   "execution_count": 37,
   "metadata": {
    "collapsed": false
   },
   "outputs": [
    {
     "data": {
      "text/plain": [
       "[<matplotlib.lines.Line2D at 0x11361d080>]"
      ]
     },
     "execution_count": 37,
     "metadata": {},
     "output_type": "execute_result"
    },
    {
     "data": {
      "image/png": "[encoded data removed]",
      "text/plain": [
       "<matplotlib.figure.Figure at 0x1136182b0>"
      ]
     },
     "metadata": {},
     "output_type": "display_data"
    }
   ],
   "source": [
    "# gráfico de disperción y regresión\n",
    "data.plot(kind='scatter', x='x', y='y')\n",
    "plt.plot(data.x, y_hat, color='red')"
   ]
  },
  {
   "cell_type": "markdown",
   "metadata": {},
   "source": [
    "# MÉTODO 2\n",
    "# Pandas y el método OLS"
   ]
  },
  {
   "cell_type": "code",
   "execution_count": 14,
   "metadata": {
    "collapsed": false
   },
   "outputs": [],
   "source": [
    "# dataframe\n"
   ]
  },
  {
   "cell_type": "code",
   "execution_count": 15,
   "metadata": {
    "collapsed": false
   },
   "outputs": [],
   "source": [
    "# modelo\n"
   ]
  },
  {
   "cell_type": "code",
   "execution_count": 16,
   "metadata": {
    "collapsed": false
   },
   "outputs": [],
   "source": [
    "# grafico de las series y e y_estimado\n"
   ]
  },
  {
   "cell_type": "code",
   "execution_count": 17,
   "metadata": {
    "collapsed": false
   },
   "outputs": [],
   "source": [
    "# gráfico de disperción y regresión\n"
   ]
  },
  {
   "cell_type": "markdown",
   "metadata": {},
   "source": [
    "# MÉTODO 3\n",
    "## Statsmodels"
   ]
  },
  {
   "cell_type": "code",
   "execution_count": 1,
   "metadata": {
    "collapsed": true
   },
   "outputs": [],
   "source": [
    "# importar"
   ]
  },
  {
   "cell_type": "code",
   "execution_count": 18,
   "metadata": {
    "collapsed": true
   },
   "outputs": [],
   "source": [
    "# definir x e y\n",
    "\n",
    "# agregar constante\n"
   ]
  },
  {
   "cell_type": "code",
   "execution_count": 19,
   "metadata": {
    "collapsed": true
   },
   "outputs": [],
   "source": [
    "# modelo\n"
   ]
  },
  {
   "cell_type": "code",
   "execution_count": 20,
   "metadata": {
    "collapsed": true
   },
   "outputs": [],
   "source": [
    "# regresión\n"
   ]
  },
  {
   "cell_type": "code",
   "execution_count": 21,
   "metadata": {
    "collapsed": false
   },
   "outputs": [],
   "source": [
    "# resumen\n"
   ]
  },
  {
   "cell_type": "code",
   "execution_count": 22,
   "metadata": {
    "collapsed": false
   },
   "outputs": [],
   "source": [
    "# parámetros\n"
   ]
  },
  {
   "cell_type": "code",
   "execution_count": 23,
   "metadata": {
    "collapsed": false
   },
   "outputs": [],
   "source": [
    "# gráfico de las series y e y_estimado\n"
   ]
  },
  {
   "cell_type": "code",
   "execution_count": 24,
   "metadata": {
    "collapsed": false
   },
   "outputs": [],
   "source": [
    "# gráfico de disperción y regresión\n"
   ]
  },
  {
   "cell_type": "code",
   "execution_count": 25,
   "metadata": {
    "collapsed": false
   },
   "outputs": [],
   "source": [
    "# residuos\n"
   ]
  }
 ],
 "metadata": {
  "kernelspec": {
   "display_name": "Python 3",
   "language": "python",
   "name": "python3"
  },
  "language_info": {
   "codemirror_mode": {
    "name": "ipython",
    "version": 3
   },
   "file_extension": ".py",
   "mimetype": "text/x-python",
   "name": "python",
   "nbconvert_exporter": "python",
   "pygments_lexer": "ipython3",
   "version": "3.4.3"
  }
 },
 "nbformat": 4,
 "nbformat_minor": 0
}
